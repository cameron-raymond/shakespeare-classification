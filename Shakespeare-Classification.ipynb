{
 "cells": [
  {
   "cell_type": "code",
   "execution_count": 1,
   "metadata": {},
   "outputs": [],
   "source": [
    "import pandas as pd\n",
    "import numpy as np\n",
    "import networkx as nx\n",
    "import matplotlib.pyplot as plt\n",
    "import re"
   ]
  },
  {
   "cell_type": "markdown",
   "metadata": {},
   "source": [
    "## Download Data\n",
    "\n",
    "We're downloading the dialouge from all of Shakespeare's plays via Kaggle. The below cell contains what you'd run in your terminal, but to do so you need to have a Kaggle Account/API Key."
   ]
  },
  {
   "cell_type": "code",
   "execution_count": 2,
   "metadata": {
    "scrolled": false
   },
   "outputs": [],
   "source": [
    "import subprocess\n",
    "import sys\n",
    "import os\n",
    "# subprocess.run(\"kaggle datasets download -d kingburrito666/shakespeare-plays && unzip shakespeare-plays.zip\",shell=True)\n",
    "plays_df = pd.read_csv(\"Shakespeare_data.csv\")\n",
    "# Drop stage directions (where there isn't an act/scene/line)\n",
    "plays_df = plays_df[pd.notna(plays_df['ActSceneLine'])]\n",
    "plays_df[['Act','Scene','Line']] = plays_df['ActSceneLine'].str.split('.',expand = True).astype(float)\n",
    "plays_df = plays_df.drop('ActSceneLine',axis=1)\n",
    "# Standardize play casing\n",
    "plays_df['Play'] = plays_df['Play'].apply(lambda x: x.title())"
   ]
  },
  {
   "cell_type": "markdown",
   "metadata": {},
   "source": [
    "### Remove plays defined as \"histories\""
   ]
  },
  {
   "cell_type": "code",
   "execution_count": 3,
   "metadata": {},
   "outputs": [
    {
     "name": "stdout",
     "output_type": "stream",
     "text": [
      "77597 rows and 8 columns\n"
     ]
    },
    {
     "data": {
      "text/html": [
       "<div>\n",
       "<style scoped>\n",
       "    .dataframe tbody tr th:only-of-type {\n",
       "        vertical-align: middle;\n",
       "    }\n",
       "\n",
       "    .dataframe tbody tr th {\n",
       "        vertical-align: top;\n",
       "    }\n",
       "\n",
       "    .dataframe thead th {\n",
       "        text-align: right;\n",
       "    }\n",
       "</style>\n",
       "<table border=\"1\" class=\"dataframe\">\n",
       "  <thead>\n",
       "    <tr style=\"text-align: right;\">\n",
       "      <th></th>\n",
       "      <th>Dataline</th>\n",
       "      <th>Play</th>\n",
       "      <th>PlayerLinenumber</th>\n",
       "      <th>Player</th>\n",
       "      <th>PlayerLine</th>\n",
       "      <th>Act</th>\n",
       "      <th>Scene</th>\n",
       "      <th>Line</th>\n",
       "    </tr>\n",
       "  </thead>\n",
       "  <tbody>\n",
       "    <tr>\n",
       "      <th>12663</th>\n",
       "      <td>12664</td>\n",
       "      <td>Alls Well That Ends Well</td>\n",
       "      <td>1.0</td>\n",
       "      <td>COUNTESS</td>\n",
       "      <td>In delivering my son from me, I bury a second ...</td>\n",
       "      <td>1.0</td>\n",
       "      <td>1.0</td>\n",
       "      <td>1.0</td>\n",
       "    </tr>\n",
       "    <tr>\n",
       "      <th>12664</th>\n",
       "      <td>12665</td>\n",
       "      <td>Alls Well That Ends Well</td>\n",
       "      <td>2.0</td>\n",
       "      <td>BERTRAM</td>\n",
       "      <td>And I in going, madam, weep o'er my father's d...</td>\n",
       "      <td>1.0</td>\n",
       "      <td>1.0</td>\n",
       "      <td>2.0</td>\n",
       "    </tr>\n",
       "    <tr>\n",
       "      <th>12665</th>\n",
       "      <td>12666</td>\n",
       "      <td>Alls Well That Ends Well</td>\n",
       "      <td>2.0</td>\n",
       "      <td>BERTRAM</td>\n",
       "      <td>anew: but I must attend his majesty's command, to</td>\n",
       "      <td>1.0</td>\n",
       "      <td>1.0</td>\n",
       "      <td>3.0</td>\n",
       "    </tr>\n",
       "    <tr>\n",
       "      <th>12666</th>\n",
       "      <td>12667</td>\n",
       "      <td>Alls Well That Ends Well</td>\n",
       "      <td>2.0</td>\n",
       "      <td>BERTRAM</td>\n",
       "      <td>whom I am now in ward, evermore in subjection.</td>\n",
       "      <td>1.0</td>\n",
       "      <td>1.0</td>\n",
       "      <td>4.0</td>\n",
       "    </tr>\n",
       "    <tr>\n",
       "      <th>12667</th>\n",
       "      <td>12668</td>\n",
       "      <td>Alls Well That Ends Well</td>\n",
       "      <td>3.0</td>\n",
       "      <td>LAFEU</td>\n",
       "      <td>You shall find of the king a husband, madam, you,</td>\n",
       "      <td>1.0</td>\n",
       "      <td>1.0</td>\n",
       "      <td>5.0</td>\n",
       "    </tr>\n",
       "  </tbody>\n",
       "</table>\n",
       "</div>"
      ],
      "text/plain": [
       "       Dataline                      Play  PlayerLinenumber    Player  \\\n",
       "12663     12664  Alls Well That Ends Well               1.0  COUNTESS   \n",
       "12664     12665  Alls Well That Ends Well               2.0   BERTRAM   \n",
       "12665     12666  Alls Well That Ends Well               2.0   BERTRAM   \n",
       "12666     12667  Alls Well That Ends Well               2.0   BERTRAM   \n",
       "12667     12668  Alls Well That Ends Well               3.0     LAFEU   \n",
       "\n",
       "                                              PlayerLine  Act  Scene  Line  \n",
       "12663  In delivering my son from me, I bury a second ...  1.0    1.0   1.0  \n",
       "12664  And I in going, madam, weep o'er my father's d...  1.0    1.0   2.0  \n",
       "12665  anew: but I must attend his majesty's command, to  1.0    1.0   3.0  \n",
       "12666     whom I am now in ward, evermore in subjection.  1.0    1.0   4.0  \n",
       "12667  You shall find of the king a husband, madam, you,  1.0    1.0   5.0  "
      ]
     },
     "execution_count": 3,
     "metadata": {},
     "output_type": "execute_result"
    }
   ],
   "source": [
    "histories = [\"King John\", \"Henry Iv\", \"Henry Vi Part 1\", \"Henry V\",\n",
    "            \"Henry Vi Part 2\", \"Henry Vi Part 3\", \"Henry Viii\", \"Richard Ii\", \n",
    "             \"Richard Iii\"]\n",
    "plays_df = plays_df[~plays_df[\"Play\"].isin(histories)]\n",
    "print(\"{} rows and {} columns\".format(*plays_df.shape))\n",
    "plays_df.head()"
   ]
  },
  {
   "cell_type": "markdown",
   "metadata": {},
   "source": [
    "All the plays we have to work with"
   ]
  },
  {
   "cell_type": "code",
   "execution_count": 4,
   "metadata": {},
   "outputs": [
    {
     "name": "stdout",
     "output_type": "stream",
     "text": [
      "['Alls Well That Ends Well' 'As You Like It' 'Antony And Cleopatra'\n",
      " 'A Comedy Of Errors' 'Coriolanus' 'Cymbeline' 'Hamlet' 'Julius Caesar'\n",
      " 'King Lear' 'Loves Labours Lost' 'Macbeth' 'Measure For Measure'\n",
      " 'Merchant Of Venice' 'Merry Wives Of Windsor' 'A Midsummer Nights Dream'\n",
      " 'Much Ado About Nothing' 'Othello' 'Pericles' 'Romeo And Juliet'\n",
      " 'Taming Of The Shrew' 'The Tempest' 'Timon Of Athens' 'Titus Andronicus'\n",
      " 'Troilus And Cressida' 'Twelfth Night' 'Two Gentlemen Of Verona'\n",
      " 'A Winters Tale']\n"
     ]
    }
   ],
   "source": [
    "play_list = plays_df[\"Play\"].unique()\n",
    "play_list\n",
    "print(play_list)"
   ]
  },
  {
   "cell_type": "code",
   "execution_count": 29,
   "metadata": {
    "scrolled": true
   },
   "outputs": [
    {
     "data": {
      "text/html": [
       "<div>\n",
       "<style scoped>\n",
       "    .dataframe tbody tr th:only-of-type {\n",
       "        vertical-align: middle;\n",
       "    }\n",
       "\n",
       "    .dataframe tbody tr th {\n",
       "        vertical-align: top;\n",
       "    }\n",
       "\n",
       "    .dataframe thead th {\n",
       "        text-align: right;\n",
       "    }\n",
       "</style>\n",
       "<table border=\"1\" class=\"dataframe\">\n",
       "  <thead>\n",
       "    <tr style=\"text-align: right;\">\n",
       "      <th></th>\n",
       "      <th>Dataline</th>\n",
       "      <th>Play</th>\n",
       "      <th>PlayerLinenumber</th>\n",
       "      <th>Player</th>\n",
       "      <th>PlayerLine</th>\n",
       "      <th>Act</th>\n",
       "      <th>Scene</th>\n",
       "      <th>Line</th>\n",
       "    </tr>\n",
       "  </thead>\n",
       "  <tbody>\n",
       "    <tr>\n",
       "      <th>22430</th>\n",
       "      <td>22431</td>\n",
       "      <td>A Comedy Of Errors</td>\n",
       "      <td>1.0</td>\n",
       "      <td>AEGEON</td>\n",
       "      <td>Proceed, Solinus, to procure my fall</td>\n",
       "      <td>1.0</td>\n",
       "      <td>1.0</td>\n",
       "      <td>1.0</td>\n",
       "    </tr>\n",
       "    <tr>\n",
       "      <th>22431</th>\n",
       "      <td>22432</td>\n",
       "      <td>A Comedy Of Errors</td>\n",
       "      <td>1.0</td>\n",
       "      <td>AEGEON</td>\n",
       "      <td>And by the doom of death end woes and all.</td>\n",
       "      <td>1.0</td>\n",
       "      <td>1.0</td>\n",
       "      <td>2.0</td>\n",
       "    </tr>\n",
       "    <tr>\n",
       "      <th>22432</th>\n",
       "      <td>22433</td>\n",
       "      <td>A Comedy Of Errors</td>\n",
       "      <td>2.0</td>\n",
       "      <td>DUKE SOLINUS</td>\n",
       "      <td>Merchant of Syracuse, plead no more,</td>\n",
       "      <td>1.0</td>\n",
       "      <td>1.0</td>\n",
       "      <td>3.0</td>\n",
       "    </tr>\n",
       "    <tr>\n",
       "      <th>22433</th>\n",
       "      <td>22434</td>\n",
       "      <td>A Comedy Of Errors</td>\n",
       "      <td>2.0</td>\n",
       "      <td>DUKE SOLINUS</td>\n",
       "      <td>I am not partial to infringe our laws:</td>\n",
       "      <td>1.0</td>\n",
       "      <td>1.0</td>\n",
       "      <td>4.0</td>\n",
       "    </tr>\n",
       "    <tr>\n",
       "      <th>22434</th>\n",
       "      <td>22435</td>\n",
       "      <td>A Comedy Of Errors</td>\n",
       "      <td>2.0</td>\n",
       "      <td>DUKE SOLINUS</td>\n",
       "      <td>The enmity and discord which of late</td>\n",
       "      <td>1.0</td>\n",
       "      <td>1.0</td>\n",
       "      <td>5.0</td>\n",
       "    </tr>\n",
       "  </tbody>\n",
       "</table>\n",
       "</div>"
      ],
      "text/plain": [
       "       Dataline                Play  PlayerLinenumber        Player  \\\n",
       "22430     22431  A Comedy Of Errors               1.0        AEGEON   \n",
       "22431     22432  A Comedy Of Errors               1.0        AEGEON   \n",
       "22432     22433  A Comedy Of Errors               2.0  DUKE SOLINUS   \n",
       "22433     22434  A Comedy Of Errors               2.0  DUKE SOLINUS   \n",
       "22434     22435  A Comedy Of Errors               2.0  DUKE SOLINUS   \n",
       "\n",
       "                                       PlayerLine  Act  Scene  Line  \n",
       "22430        Proceed, Solinus, to procure my fall  1.0    1.0   1.0  \n",
       "22431  And by the doom of death end woes and all.  1.0    1.0   2.0  \n",
       "22432        Merchant of Syracuse, plead no more,  1.0    1.0   3.0  \n",
       "22433      I am not partial to infringe our laws:  1.0    1.0   4.0  \n",
       "22434        The enmity and discord which of late  1.0    1.0   5.0  "
      ]
     },
     "execution_count": 29,
     "metadata": {},
     "output_type": "execute_result"
    }
   ],
   "source": [
    "play_name = \"A Comedy Of Errors\"\n",
    "single_play = plays_df[(plays_df['Play'] == play_name)]\n",
    "single_play.head()"
   ]
  },
  {
   "cell_type": "markdown",
   "metadata": {},
   "source": [
    "## Organize play by act/scene and keep track of who speaks in which"
   ]
  },
  {
   "cell_type": "code",
   "execution_count": 30,
   "metadata": {
    "scrolled": false
   },
   "outputs": [
    {
     "data": {
      "text/html": [
       "<div>\n",
       "<style scoped>\n",
       "    .dataframe tbody tr th:only-of-type {\n",
       "        vertical-align: middle;\n",
       "    }\n",
       "\n",
       "    .dataframe tbody tr th {\n",
       "        vertical-align: top;\n",
       "    }\n",
       "\n",
       "    .dataframe thead th {\n",
       "        text-align: right;\n",
       "    }\n",
       "</style>\n",
       "<table border=\"1\" class=\"dataframe\">\n",
       "  <thead>\n",
       "    <tr style=\"text-align: right;\">\n",
       "      <th></th>\n",
       "      <th>Player</th>\n",
       "      <th>Count</th>\n",
       "    </tr>\n",
       "  </thead>\n",
       "  <tbody>\n",
       "    <tr>\n",
       "      <th>0</th>\n",
       "      <td>ADRIANA</td>\n",
       "      <td>276</td>\n",
       "    </tr>\n",
       "    <tr>\n",
       "      <th>1</th>\n",
       "      <td>AEGEON</td>\n",
       "      <td>147</td>\n",
       "    </tr>\n",
       "    <tr>\n",
       "      <th>2</th>\n",
       "      <td>AEMELIA</td>\n",
       "      <td>73</td>\n",
       "    </tr>\n",
       "    <tr>\n",
       "      <th>3</th>\n",
       "      <td>ANGELO</td>\n",
       "      <td>96</td>\n",
       "    </tr>\n",
       "    <tr>\n",
       "      <th>4</th>\n",
       "      <td>ANTIPHOLUS</td>\n",
       "      <td>6</td>\n",
       "    </tr>\n",
       "    <tr>\n",
       "      <th>5</th>\n",
       "      <td>BALTHAZAR</td>\n",
       "      <td>31</td>\n",
       "    </tr>\n",
       "    <tr>\n",
       "      <th>6</th>\n",
       "      <td>Courtezan</td>\n",
       "      <td>40</td>\n",
       "    </tr>\n",
       "    <tr>\n",
       "      <th>7</th>\n",
       "      <td>DROMIO OF EPHESUS</td>\n",
       "      <td>187</td>\n",
       "    </tr>\n",
       "    <tr>\n",
       "      <th>8</th>\n",
       "      <td>DROMIO OF SYRACUSE</td>\n",
       "      <td>314</td>\n",
       "    </tr>\n",
       "    <tr>\n",
       "      <th>9</th>\n",
       "      <td>DUKE SOLINUS</td>\n",
       "      <td>93</td>\n",
       "    </tr>\n",
       "    <tr>\n",
       "      <th>10</th>\n",
       "      <td>First Merchant</td>\n",
       "      <td>18</td>\n",
       "    </tr>\n",
       "    <tr>\n",
       "      <th>12</th>\n",
       "      <td>LUCE</td>\n",
       "      <td>11</td>\n",
       "    </tr>\n",
       "    <tr>\n",
       "      <th>13</th>\n",
       "      <td>LUCIANA</td>\n",
       "      <td>108</td>\n",
       "    </tr>\n",
       "    <tr>\n",
       "      <th>14</th>\n",
       "      <td>OF EPHESUS</td>\n",
       "      <td>210</td>\n",
       "    </tr>\n",
       "    <tr>\n",
       "      <th>15</th>\n",
       "      <td>OF SYRACUSE</td>\n",
       "      <td>271</td>\n",
       "    </tr>\n",
       "    <tr>\n",
       "      <th>16</th>\n",
       "      <td>Officer</td>\n",
       "      <td>16</td>\n",
       "    </tr>\n",
       "    <tr>\n",
       "      <th>17</th>\n",
       "      <td>PINCH</td>\n",
       "      <td>16</td>\n",
       "    </tr>\n",
       "    <tr>\n",
       "      <th>18</th>\n",
       "      <td>Second Merchant</td>\n",
       "      <td>38</td>\n",
       "    </tr>\n",
       "    <tr>\n",
       "      <th>19</th>\n",
       "      <td>Servant</td>\n",
       "      <td>15</td>\n",
       "    </tr>\n",
       "  </tbody>\n",
       "</table>\n",
       "</div>"
      ],
      "text/plain": [
       "                Player  Count\n",
       "0              ADRIANA    276\n",
       "1               AEGEON    147\n",
       "2              AEMELIA     73\n",
       "3               ANGELO     96\n",
       "4           ANTIPHOLUS      6\n",
       "5            BALTHAZAR     31\n",
       "6            Courtezan     40\n",
       "7    DROMIO OF EPHESUS    187\n",
       "8   DROMIO OF SYRACUSE    314\n",
       "9         DUKE SOLINUS     93\n",
       "10      First Merchant     18\n",
       "12                LUCE     11\n",
       "13             LUCIANA    108\n",
       "14          OF EPHESUS    210\n",
       "15         OF SYRACUSE    271\n",
       "16             Officer     16\n",
       "17               PINCH     16\n",
       "18     Second Merchant     38\n",
       "19             Servant     15"
      ]
     },
     "execution_count": 30,
     "metadata": {},
     "output_type": "execute_result"
    }
   ],
   "source": [
    "# Group the play dataframe by each character to get how often they speak\n",
    "top_characters = single_play.groupby(['Player']).size().reset_index()\n",
    "top_characters.rename(columns = {0: 'Count'}, inplace = True)\n",
    "# Get top 20 Characters\n",
    "top_characters = top_characters[top_characters[\"Count\"] > 5]\n",
    "top_characters"
   ]
  },
  {
   "cell_type": "markdown",
   "metadata": {},
   "source": [
    "### Create Graph and add all the characters"
   ]
  },
  {
   "cell_type": "code",
   "execution_count": 31,
   "metadata": {
    "scrolled": true
   },
   "outputs": [],
   "source": [
    "character_graph = nx.Graph()\n",
    "character_graph.add_nodes_from(top_characters[\"Player\"])"
   ]
  },
  {
   "cell_type": "markdown",
   "metadata": {},
   "source": [
    "### Go scene by scene and add links between all the characters who spoke in that scene\n",
    "\n",
    "We're updating the weights as we go scene by scene so that  "
   ]
  },
  {
   "cell_type": "code",
   "execution_count": 32,
   "metadata": {},
   "outputs": [],
   "source": [
    "from itertools import combinations\n",
    "# Group the play by the Act/Scene and get how much each character spoke in that scene \n",
    "character_counts = single_play.groupby(['Act','Scene','Player']).size().reset_index()\n",
    "character_counts = character_counts[character_counts[\"Player\"].isin(top_characters[\"Player\"])]\n",
    "character_counts.rename(columns = {0: 'Count'}, inplace = True)\n",
    "\n",
    "# Go scene by scene\n",
    "for (act,scene), counts in character_counts.groupby(['Act','Scene']):\n",
    "    # Get all the characters that are in that scene\n",
    "    characters = counts[\"Player\"].tolist()\n",
    "    # If a scene contains characters [A,B,C] we want are graph to \n",
    "    # contain the edges [(A,B),(A,C),(B,C)]\n",
    "    pairs = list(combinations(characters,2))\n",
    "    for (a_char, b_char) in pairs:\n",
    "        a_count = float(counts[counts[\"Player\"] == a_char][\"Count\"])\n",
    "        b_count = float(counts[counts[\"Player\"] == b_char][\"Count\"])\n",
    "        if character_graph.has_edge(a_char, b_char):\n",
    "            # we added this one before, just increase the weight by one\n",
    "            character_graph[a_char][b_char]['weight'] += 1\n",
    "        else:\n",
    "            # new edge. add with weight=1\n",
    "            character_graph.add_edge(a_char, b_char, weight = a_count + b_count)"
   ]
  },
  {
   "cell_type": "code",
   "execution_count": 33,
   "metadata": {},
   "outputs": [],
   "source": [
    "# drawing NX graph object\n",
    "plt.figure(figsize = (8,6), dpi = 180)\n",
    "plt.title(play_name)\n",
    "    \n",
    "pos = nx.spring_layout(character_graph)\n",
    "# Divide all the weights by 30 so that the edges aren't super thick\n",
    "weights = np.array([character_graph[u][v]['weight'] for u,v in character_graph.edges()])/30\n",
    "kwargs = {\n",
    "    \"with_labels\": True,\n",
    "    \"node_size\": 400,\n",
    "    \"node_color\": 'grey',\n",
    "    \"font_size\": 8,\n",
    "    \"font_weight\": 'semibold',\n",
    "    \"width\": weights,\n",
    "    \"edge_color\": weights, \n",
    "    \"edge_cmap\": plt.cm.Blues,\n",
    "    \"pos\": pos\n",
    "}\n",
    "nx.draw_networkx(character_graph, **kwargs)\n",
    "\n",
    "plt.axis('off')\n",
    "plt.savefig(\"./visualizations/{}.png\".format(play_name))\n",
    "plt.close()"
   ]
  },
  {
   "cell_type": "markdown",
   "metadata": {},
   "source": [
    "### Save the character graph to a file for later"
   ]
  },
  {
   "cell_type": "code",
   "execution_count": 34,
   "metadata": {},
   "outputs": [],
   "source": [
    "nx.write_gpickle(character_graph, \"./graphs/{}.gpickle\".format(play_name))"
   ]
  },
  {
   "cell_type": "markdown",
   "metadata": {},
   "source": [
    "# *Repeat with all other plays...*"
   ]
  },
  {
   "cell_type": "markdown",
   "metadata": {},
   "source": [
    "# Calculate Heat Traces\n",
    "\n",
    "The idea behind classifying these plays is that at some global and local levels, tragedies and comedies have different patterns of communication. This can be captured by simulating how the dialogue \"flows\" through the network. This uses the heat kernel and is directly analogous to modelling how heat diffuses throughout a system."
   ]
  },
  {
   "cell_type": "code",
   "execution_count": 35,
   "metadata": {},
   "outputs": [],
   "source": [
    "from sklearn.model_selection import train_test_split\n",
    "comedies = [\"A Midsummer Nights Dream\", \"A Comedy Of Errors\", \"Taming Of The Shrew\",\n",
    "            \"Two Gentlemen Of Verona\", \"Loves Labours Lost\", \"The Tempest\", \n",
    "            \"A Winters Tale\", \"Cymbeline\", \"Pericles\",\"Alls Well That Ends Well\",\n",
    "            \"Measure For Measure\", \"Troilus And Cressida\", \"Twelfth Night\", \n",
    "            \"As You Like It\", \"Much Ado About Nothing\", \"Merchant Of Venice\",\n",
    "            \"Merry Wives Of Windsor\"]\n",
    "\n",
    "tragedies = [\"Macbeth\",\"Titus Andronicus\", \"Romeo And Juliet\", \"King Lear\",\n",
    "            \"Hamlet\",\"Othello\", \"Julius Caesar\", \"Antony And Cleopatra\", \n",
    "            \"Coriolanus\", \"Timon Of Athens\"]\n",
    "\n",
    "# Split into training and testing data\n",
    "data = np.array(comedies+tragedies)\n",
    "labels = np.concatenate([np.full(len(comedies), \"c\"),np.full(len(tragedies), \"t\")])\n",
    "# Label map\n",
    "lm = {\n",
    "    \"c\": (\"Comedy\",\"blue\"),\n",
    "    \"t\": (\"Tragedy\",\"red\")\n",
    "}\n",
    "data_train, data_test, labels_train, labels_test = train_test_split(data, labels, test_size=0.20, random_state=42)"
   ]
  },
  {
   "cell_type": "markdown",
   "metadata": {},
   "source": [
    "## Calculate point of truth heat signature"
   ]
  },
  {
   "cell_type": "code",
   "execution_count": 36,
   "metadata": {},
   "outputs": [
    {
     "ename": "FileNotFoundError",
     "evalue": "[Errno 2] No such file or directory: './graphs/Merry Wives Of Windsor.gpickle'",
     "output_type": "error",
     "traceback": [
      "\u001b[0;31m---------------------------------------------------------------------------\u001b[0m",
      "\u001b[0;31mFileNotFoundError\u001b[0m                         Traceback (most recent call last)",
      "\u001b[0;32m<ipython-input-36-1cbea355df91>\u001b[0m in \u001b[0;36m<module>\u001b[0;34m\u001b[0m\n\u001b[1;32m      1\u001b[0m \u001b[0;32mimport\u001b[0m \u001b[0mnetlsd\u001b[0m\u001b[0;34m\u001b[0m\u001b[0;34m\u001b[0m\u001b[0m\n\u001b[0;32m----> 2\u001b[0;31m \u001b[0mtraining_graphs\u001b[0m \u001b[0;34m=\u001b[0m \u001b[0;34m[\u001b[0m\u001b[0mnx\u001b[0m\u001b[0;34m.\u001b[0m\u001b[0mread_gpickle\u001b[0m\u001b[0;34m(\u001b[0m\u001b[0;34m\"./graphs/{}.gpickle\"\u001b[0m\u001b[0;34m.\u001b[0m\u001b[0mformat\u001b[0m\u001b[0;34m(\u001b[0m\u001b[0mtitle\u001b[0m\u001b[0;34m)\u001b[0m\u001b[0;34m)\u001b[0m \u001b[0;32mfor\u001b[0m \u001b[0mtitle\u001b[0m \u001b[0;32min\u001b[0m \u001b[0mdata_train\u001b[0m\u001b[0;34m]\u001b[0m\u001b[0;34m\u001b[0m\u001b[0;34m\u001b[0m\u001b[0m\n\u001b[0m\u001b[1;32m      3\u001b[0m kwargs = {\n\u001b[1;32m      4\u001b[0m     \u001b[0;34m\"timescales\"\u001b[0m\u001b[0;34m:\u001b[0m \u001b[0mnp\u001b[0m\u001b[0;34m.\u001b[0m\u001b[0mlogspace\u001b[0m\u001b[0;34m(\u001b[0m\u001b[0;34m-\u001b[0m\u001b[0;36m2\u001b[0m\u001b[0;34m,\u001b[0m \u001b[0;36m2\u001b[0m\u001b[0;34m,\u001b[0m \u001b[0;36m250\u001b[0m\u001b[0;34m)\u001b[0m\u001b[0;34m,\u001b[0m\u001b[0;34m\u001b[0m\u001b[0;34m\u001b[0m\u001b[0m\n\u001b[1;32m      5\u001b[0m     \u001b[0;34m\"normalization\"\u001b[0m\u001b[0;34m:\u001b[0m \u001b[0;34m\"empty\"\u001b[0m\u001b[0;34m\u001b[0m\u001b[0;34m\u001b[0m\u001b[0m\n",
      "\u001b[0;32m<ipython-input-36-1cbea355df91>\u001b[0m in \u001b[0;36m<listcomp>\u001b[0;34m(.0)\u001b[0m\n\u001b[1;32m      1\u001b[0m \u001b[0;32mimport\u001b[0m \u001b[0mnetlsd\u001b[0m\u001b[0;34m\u001b[0m\u001b[0;34m\u001b[0m\u001b[0m\n\u001b[0;32m----> 2\u001b[0;31m \u001b[0mtraining_graphs\u001b[0m \u001b[0;34m=\u001b[0m \u001b[0;34m[\u001b[0m\u001b[0mnx\u001b[0m\u001b[0;34m.\u001b[0m\u001b[0mread_gpickle\u001b[0m\u001b[0;34m(\u001b[0m\u001b[0;34m\"./graphs/{}.gpickle\"\u001b[0m\u001b[0;34m.\u001b[0m\u001b[0mformat\u001b[0m\u001b[0;34m(\u001b[0m\u001b[0mtitle\u001b[0m\u001b[0;34m)\u001b[0m\u001b[0;34m)\u001b[0m \u001b[0;32mfor\u001b[0m \u001b[0mtitle\u001b[0m \u001b[0;32min\u001b[0m \u001b[0mdata_train\u001b[0m\u001b[0;34m]\u001b[0m\u001b[0;34m\u001b[0m\u001b[0;34m\u001b[0m\u001b[0m\n\u001b[0m\u001b[1;32m      3\u001b[0m kwargs = {\n\u001b[1;32m      4\u001b[0m     \u001b[0;34m\"timescales\"\u001b[0m\u001b[0;34m:\u001b[0m \u001b[0mnp\u001b[0m\u001b[0;34m.\u001b[0m\u001b[0mlogspace\u001b[0m\u001b[0;34m(\u001b[0m\u001b[0;34m-\u001b[0m\u001b[0;36m2\u001b[0m\u001b[0;34m,\u001b[0m \u001b[0;36m2\u001b[0m\u001b[0;34m,\u001b[0m \u001b[0;36m250\u001b[0m\u001b[0;34m)\u001b[0m\u001b[0;34m,\u001b[0m\u001b[0;34m\u001b[0m\u001b[0;34m\u001b[0m\u001b[0m\n\u001b[1;32m      5\u001b[0m     \u001b[0;34m\"normalization\"\u001b[0m\u001b[0;34m:\u001b[0m \u001b[0;34m\"empty\"\u001b[0m\u001b[0;34m\u001b[0m\u001b[0;34m\u001b[0m\u001b[0m\n",
      "\u001b[0;32m<decorator-gen-747>\u001b[0m in \u001b[0;36mread_gpickle\u001b[0;34m(path)\u001b[0m\n",
      "\u001b[0;32m~/Documents/GitHub/shakespeare-classification/penv/lib/python3.7/site-packages/networkx/utils/decorators.py\u001b[0m in \u001b[0;36m_open_file\u001b[0;34m(func_to_be_decorated, *args, **kwargs)\u001b[0m\n\u001b[1;32m    212\u001b[0m         \u001b[0;32mif\u001b[0m \u001b[0mis_string_like\u001b[0m\u001b[0;34m(\u001b[0m\u001b[0mpath\u001b[0m\u001b[0;34m)\u001b[0m\u001b[0;34m:\u001b[0m\u001b[0;34m\u001b[0m\u001b[0;34m\u001b[0m\u001b[0m\n\u001b[1;32m    213\u001b[0m             \u001b[0mext\u001b[0m \u001b[0;34m=\u001b[0m \u001b[0msplitext\u001b[0m\u001b[0;34m(\u001b[0m\u001b[0mpath\u001b[0m\u001b[0;34m)\u001b[0m\u001b[0;34m[\u001b[0m\u001b[0;36m1\u001b[0m\u001b[0;34m]\u001b[0m\u001b[0;34m\u001b[0m\u001b[0;34m\u001b[0m\u001b[0m\n\u001b[0;32m--> 214\u001b[0;31m             \u001b[0mfobj\u001b[0m \u001b[0;34m=\u001b[0m \u001b[0m_dispatch_dict\u001b[0m\u001b[0;34m[\u001b[0m\u001b[0mext\u001b[0m\u001b[0;34m]\u001b[0m\u001b[0;34m(\u001b[0m\u001b[0mpath\u001b[0m\u001b[0;34m,\u001b[0m \u001b[0mmode\u001b[0m\u001b[0;34m=\u001b[0m\u001b[0mmode\u001b[0m\u001b[0;34m)\u001b[0m\u001b[0;34m\u001b[0m\u001b[0;34m\u001b[0m\u001b[0m\n\u001b[0m\u001b[1;32m    215\u001b[0m             \u001b[0mclose_fobj\u001b[0m \u001b[0;34m=\u001b[0m \u001b[0;32mTrue\u001b[0m\u001b[0;34m\u001b[0m\u001b[0;34m\u001b[0m\u001b[0m\n\u001b[1;32m    216\u001b[0m         \u001b[0;32melif\u001b[0m \u001b[0mhasattr\u001b[0m\u001b[0;34m(\u001b[0m\u001b[0mpath\u001b[0m\u001b[0;34m,\u001b[0m \u001b[0;34m'read'\u001b[0m\u001b[0;34m)\u001b[0m\u001b[0;34m:\u001b[0m\u001b[0;34m\u001b[0m\u001b[0;34m\u001b[0m\u001b[0m\n",
      "\u001b[0;31mFileNotFoundError\u001b[0m: [Errno 2] No such file or directory: './graphs/Merry Wives Of Windsor.gpickle'"
     ]
    }
   ],
   "source": [
    "import netlsd\n",
    "training_graphs = [nx.read_gpickle(\"./graphs/{}.gpickle\".format(title)) for title in data_train]\n",
    "kwargs = {\n",
    "    \"timescales\": np.logspace(-2, 2, 250),\n",
    "    \"normalization\": \"empty\"\n",
    "}\n",
    "training_heat_signatures =[netlsd.heat(play_network,**kwargs) for play_network in training_graphs]\n",
    "fig = plt.figure(figsize = (8,8))\n",
    "ax = fig.add_subplot(1,1,1) \n",
    "ax.set_title(\"Point of Truth Heat Traces\")\n",
    "ax.set_ylabel('h(t)', fontsize = 15)\n",
    "ax.set_xlabel(\"Time\")\n",
    "ax.set_xscale('log')\n",
    "ax.grid()\n",
    "for sig,name,ptype in zip(training_heat_signatures,data_train,labels_train):\n",
    "    ax.plot(kwargs[\"timescales\"],sig, color=lm[ptype][1])\n",
    "\n",
    "for key, item in lm.items():\n",
    "    ax.plot([], [], label=item[0], color=item[1])\n",
    "ax.legend(loc=\"best\")\n",
    "print(len(kwargs[\"timescales\"]))"
   ]
  },
  {
   "cell_type": "code",
   "execution_count": null,
   "metadata": {},
   "outputs": [],
   "source": [
    "from netlsd import compare as l2_distance\n",
    "\n",
    "get_sig = lambda title: netlsd.wave(nx.read_gpickle(\"./graphs/{}.gpickle\".format(title)),**kwargs)\n",
    "\n",
    "def knn_predict(title, training_heat_sigs, training_titles, labels_train,k=5):\n",
    "    # Read in the play's network and calculate it's heat trace signature using the same arguments as the training data\n",
    "    graph_sig = get_sig(title)\n",
    "    # Calcualte the distance between that graph and the training data's heat traces\n",
    "    distances = [l2_distance(graph_sig,train_sig) for train_sig in training_heat_sigs]\n",
    "    # I found that the most concise way to all three training inputs by distance was to \n",
    "    # put them in a dataframe first. If you're concerned about memory other options are probably\n",
    "    # preferable\n",
    "    total = pd.DataFrame({\"Play Title\": training_titles, \"Play Type\": labels_train, \"Distance From Input\": distances})\n",
    "    total = total.sort_values(\"Distance From Input\")\n",
    "    print(total.head(k))\n",
    "    return total[\"Play Type\"].head(k).mode()[0]\n",
    "\n",
    "\n",
    "pred = [knn_predict(play,training_heat_signatures,data_train,labels_train,k=4) for play in data_test]\n",
    "print(pred)\n",
    "print(labels_test)"
   ]
  },
  {
   "cell_type": "code",
   "execution_count": null,
   "metadata": {},
   "outputs": [],
   "source": []
  }
 ],
 "metadata": {
  "kernelspec": {
   "display_name": "Python 3",
   "language": "python",
   "name": "python3"
  },
  "language_info": {
   "codemirror_mode": {
    "name": "ipython",
    "version": 3
   },
   "file_extension": ".py",
   "mimetype": "text/x-python",
   "name": "python",
   "nbconvert_exporter": "python",
   "pygments_lexer": "ipython3",
   "version": "3.7.6"
  }
 },
 "nbformat": 4,
 "nbformat_minor": 4
}
